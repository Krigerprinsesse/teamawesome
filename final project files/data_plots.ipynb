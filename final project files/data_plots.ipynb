{
 "cells": [
  {
   "cell_type": "code",
   "execution_count": null,
   "metadata": {},
   "outputs": [],
   "source": []
  },
  {
   "cell_type": "code",
   "execution_count": 16,
   "metadata": {},
   "outputs": [],
   "source": [
    "%matplotlib inline\n",
    "import csv\n",
    "import pandas as pd\n",
    "import matplotlib.pyplot as plt\n",
    "import numpy as np"
   ]
  },
  {
   "cell_type": "markdown",
   "metadata": {},
   "source": [
    "import data sources"
   ]
  },
  {
   "cell_type": "code",
   "execution_count": 17,
   "metadata": {},
   "outputs": [],
   "source": [
    "male_ceo_stock_csv = \"final_male_stock.csv\"\n",
    "female_ceo_stock_csv = \"final_women_stock.csv\"\n",
    "male_ceos = \"Fortune500_counterparts.csv\"\n",
    "female_ceos = \"2019_WomenCEO_list.csv\""
   ]
  },
  {
   "cell_type": "markdown",
   "metadata": {},
   "source": [
    "convert csv to data frames"
   ]
  },
  {
   "cell_type": "code",
   "execution_count": 18,
   "metadata": {},
   "outputs": [],
   "source": [
    "male_df = pd.read_csv(male_ceo_stock_csv)\n",
    "female_df = pd.read_csv(female_ceo_stock_csv)\n",
    "male_ceos_df = pd.read_csv(male_ceos)\n",
    "female_ceos_df = pd.read_csv(female_ceos)"
   ]
  },
  {
   "cell_type": "code",
   "execution_count": 19,
   "metadata": {},
   "outputs": [
    {
     "data": {
      "text/html": [
       "<div>\n",
       "<style scoped>\n",
       "    .dataframe tbody tr th:only-of-type {\n",
       "        vertical-align: middle;\n",
       "    }\n",
       "\n",
       "    .dataframe tbody tr th {\n",
       "        vertical-align: top;\n",
       "    }\n",
       "\n",
       "    .dataframe thead th {\n",
       "        text-align: right;\n",
       "    }\n",
       "</style>\n",
       "<table border=\"1\" class=\"dataframe\">\n",
       "  <thead>\n",
       "    <tr style=\"text-align: right;\">\n",
       "      <th></th>\n",
       "      <th>close</th>\n",
       "      <th>high</th>\n",
       "      <th>low</th>\n",
       "      <th>open</th>\n",
       "      <th>volume</th>\n",
       "      <th>Date</th>\n",
       "      <th>Ticker</th>\n",
       "    </tr>\n",
       "  </thead>\n",
       "  <tbody>\n",
       "    <tr>\n",
       "      <th>2585</th>\n",
       "      <td>656.88</td>\n",
       "      <td>656.94</td>\n",
       "      <td>608.90</td>\n",
       "      <td>616.16</td>\n",
       "      <td>1774588.0</td>\n",
       "      <td>2019-04-30</td>\n",
       "      <td>Y</td>\n",
       "    </tr>\n",
       "    <tr>\n",
       "      <th>2586</th>\n",
       "      <td>663.30</td>\n",
       "      <td>691.99</td>\n",
       "      <td>647.90</td>\n",
       "      <td>657.47</td>\n",
       "      <td>2162027.0</td>\n",
       "      <td>2019-05-31</td>\n",
       "      <td>Y</td>\n",
       "    </tr>\n",
       "    <tr>\n",
       "      <th>2587</th>\n",
       "      <td>681.11</td>\n",
       "      <td>697.33</td>\n",
       "      <td>660.65</td>\n",
       "      <td>662.42</td>\n",
       "      <td>2196795.0</td>\n",
       "      <td>2019-06-28</td>\n",
       "      <td>Y</td>\n",
       "    </tr>\n",
       "    <tr>\n",
       "      <th>2588</th>\n",
       "      <td>685.73</td>\n",
       "      <td>714.60</td>\n",
       "      <td>677.00</td>\n",
       "      <td>687.06</td>\n",
       "      <td>1396235.0</td>\n",
       "      <td>2019-07-31</td>\n",
       "      <td>Y</td>\n",
       "    </tr>\n",
       "    <tr>\n",
       "      <th>2589</th>\n",
       "      <td>692.05</td>\n",
       "      <td>705.00</td>\n",
       "      <td>686.98</td>\n",
       "      <td>686.98</td>\n",
       "      <td>163231.0</td>\n",
       "      <td>2019-08-02</td>\n",
       "      <td>Y</td>\n",
       "    </tr>\n",
       "  </tbody>\n",
       "</table>\n",
       "</div>"
      ],
      "text/plain": [
       "       close    high     low    open     volume        Date Ticker\n",
       "2585  656.88  656.94  608.90  616.16  1774588.0  2019-04-30      Y\n",
       "2586  663.30  691.99  647.90  657.47  2162027.0  2019-05-31      Y\n",
       "2587  681.11  697.33  660.65  662.42  2196795.0  2019-06-28      Y\n",
       "2588  685.73  714.60  677.00  687.06  1396235.0  2019-07-31      Y\n",
       "2589  692.05  705.00  686.98  686.98   163231.0  2019-08-02      Y"
      ]
     },
     "execution_count": 19,
     "metadata": {},
     "output_type": "execute_result"
    }
   ],
   "source": [
    "male_df.tail()"
   ]
  },
  {
   "cell_type": "code",
   "execution_count": 20,
   "metadata": {},
   "outputs": [
    {
     "data": {
      "text/html": [
       "<div>\n",
       "<style scoped>\n",
       "    .dataframe tbody tr th:only-of-type {\n",
       "        vertical-align: middle;\n",
       "    }\n",
       "\n",
       "    .dataframe tbody tr th {\n",
       "        vertical-align: top;\n",
       "    }\n",
       "\n",
       "    .dataframe thead th {\n",
       "        text-align: right;\n",
       "    }\n",
       "</style>\n",
       "<table border=\"1\" class=\"dataframe\">\n",
       "  <thead>\n",
       "    <tr style=\"text-align: right;\">\n",
       "      <th></th>\n",
       "      <th>CEO</th>\n",
       "      <th>Company</th>\n",
       "      <th>2019 Fortune 500 Rank</th>\n",
       "      <th>Effective Date as CEO</th>\n",
       "      <th>Ticker Symbol (NYS/NASDAQ)</th>\n",
       "    </tr>\n",
       "  </thead>\n",
       "  <tbody>\n",
       "    <tr>\n",
       "      <th>0</th>\n",
       "      <td>Tom Kingsbury</td>\n",
       "      <td>Burlington Storers</td>\n",
       "      <td>451</td>\n",
       "      <td>12/1/08</td>\n",
       "      <td>BURL</td>\n",
       "    </tr>\n",
       "    <tr>\n",
       "      <th>1</th>\n",
       "      <td>Bruce Van Saun</td>\n",
       "      <td>Citizens Financial Group</td>\n",
       "      <td>415</td>\n",
       "      <td>10/1/13</td>\n",
       "      <td>CFG</td>\n",
       "    </tr>\n",
       "    <tr>\n",
       "      <th>2</th>\n",
       "      <td>Weston M Hicks</td>\n",
       "      <td>Alleghany</td>\n",
       "      <td>437</td>\n",
       "      <td>12/1/04</td>\n",
       "      <td>Y</td>\n",
       "    </tr>\n",
       "    <tr>\n",
       "      <th>3</th>\n",
       "      <td>Robert H Swan</td>\n",
       "      <td>Intel</td>\n",
       "      <td>43</td>\n",
       "      <td>6/1/18</td>\n",
       "      <td>INTC</td>\n",
       "    </tr>\n",
       "    <tr>\n",
       "      <th>4</th>\n",
       "      <td>Satya Nadella</td>\n",
       "      <td>Microsoft</td>\n",
       "      <td>26</td>\n",
       "      <td>2/1/14</td>\n",
       "      <td>MSFT</td>\n",
       "    </tr>\n",
       "    <tr>\n",
       "      <th>5</th>\n",
       "      <td>Gregory Hayes</td>\n",
       "      <td>United Technologies</td>\n",
       "      <td>46</td>\n",
       "      <td>11/1/14</td>\n",
       "      <td>UTX</td>\n",
       "    </tr>\n",
       "    <tr>\n",
       "      <th>6</th>\n",
       "      <td>Dr. Thpmas Kennedy</td>\n",
       "      <td>Raytheon</td>\n",
       "      <td>114</td>\n",
       "      <td>3/1/14</td>\n",
       "      <td>RTN</td>\n",
       "    </tr>\n",
       "    <tr>\n",
       "      <th>7</th>\n",
       "      <td>Greg Maffei</td>\n",
       "      <td>Qurate</td>\n",
       "      <td>225</td>\n",
       "      <td>2/1/06</td>\n",
       "      <td>QRTEA</td>\n",
       "    </tr>\n",
       "    <tr>\n",
       "      <th>8</th>\n",
       "      <td>Jim Hackett</td>\n",
       "      <td>Ford Motor</td>\n",
       "      <td>12</td>\n",
       "      <td>5/1/17</td>\n",
       "      <td>F</td>\n",
       "    </tr>\n",
       "    <tr>\n",
       "      <th>9</th>\n",
       "      <td>Ernie Herman</td>\n",
       "      <td>TJX</td>\n",
       "      <td>85</td>\n",
       "      <td>1/1/16</td>\n",
       "      <td>TJX</td>\n",
       "    </tr>\n",
       "  </tbody>\n",
       "</table>\n",
       "</div>"
      ],
      "text/plain": [
       "                  CEO                   Company  2019 Fortune 500 Rank  \\\n",
       "0       Tom Kingsbury        Burlington Storers                    451   \n",
       "1      Bruce Van Saun  Citizens Financial Group                    415   \n",
       "2      Weston M Hicks                 Alleghany                    437   \n",
       "3       Robert H Swan                     Intel                     43   \n",
       "4       Satya Nadella                 Microsoft                     26   \n",
       "5       Gregory Hayes       United Technologies                     46   \n",
       "6  Dr. Thpmas Kennedy                  Raytheon                    114   \n",
       "7         Greg Maffei                    Qurate                    225   \n",
       "8         Jim Hackett                Ford Motor                     12   \n",
       "9        Ernie Herman                       TJX                     85   \n",
       "\n",
       "  Effective Date as CEO Ticker Symbol (NYS/NASDAQ)  \n",
       "0               12/1/08                       BURL  \n",
       "1               10/1/13                        CFG  \n",
       "2               12/1/04                          Y  \n",
       "3                6/1/18                       INTC  \n",
       "4                2/1/14                       MSFT  \n",
       "5               11/1/14                        UTX  \n",
       "6                3/1/14                        RTN  \n",
       "7                2/1/06                      QRTEA  \n",
       "8                5/1/17                          F  \n",
       "9                1/1/16                        TJX  "
      ]
     },
     "execution_count": 20,
     "metadata": {},
     "output_type": "execute_result"
    }
   ],
   "source": [
    "male_ceos_df"
   ]
  },
  {
   "cell_type": "code",
   "execution_count": null,
   "metadata": {},
   "outputs": [],
   "source": []
  },
  {
   "cell_type": "code",
   "execution_count": 21,
   "metadata": {},
   "outputs": [
    {
     "data": {
      "text/html": [
       "<div>\n",
       "<style scoped>\n",
       "    .dataframe tbody tr th:only-of-type {\n",
       "        vertical-align: middle;\n",
       "    }\n",
       "\n",
       "    .dataframe tbody tr th {\n",
       "        vertical-align: top;\n",
       "    }\n",
       "\n",
       "    .dataframe thead th {\n",
       "        text-align: right;\n",
       "    }\n",
       "</style>\n",
       "<table border=\"1\" class=\"dataframe\">\n",
       "  <thead>\n",
       "    <tr style=\"text-align: right;\">\n",
       "      <th></th>\n",
       "      <th>CEO</th>\n",
       "      <th>Company</th>\n",
       "      <th>2019 Fortune 500 ranking</th>\n",
       "      <th>effective date as CEO</th>\n",
       "      <th>Ticker Symbol (NYS/NASDAQ)</th>\n",
       "    </tr>\n",
       "  </thead>\n",
       "  <tbody>\n",
       "    <tr>\n",
       "      <th>0</th>\n",
       "      <td>Laura Alber</td>\n",
       "      <td>Williams-Sonoma</td>\n",
       "      <td>495</td>\n",
       "      <td>5/1/10</td>\n",
       "      <td>WSM</td>\n",
       "    </tr>\n",
       "    <tr>\n",
       "      <th>1</th>\n",
       "      <td>Beth E. Mooney</td>\n",
       "      <td>KeyBank</td>\n",
       "      <td>413</td>\n",
       "      <td>5/1/11</td>\n",
       "      <td>KEY</td>\n",
       "    </tr>\n",
       "    <tr>\n",
       "      <th>2</th>\n",
       "      <td>Tricia Griffith</td>\n",
       "      <td>Progressive Corporation</td>\n",
       "      <td>99</td>\n",
       "      <td>7/1/16</td>\n",
       "      <td>PGR</td>\n",
       "    </tr>\n",
       "    <tr>\n",
       "      <th>3</th>\n",
       "      <td>Ginni Rometty[3]</td>\n",
       "      <td>IBM</td>\n",
       "      <td>38</td>\n",
       "      <td>1/1/12</td>\n",
       "      <td>IBM</td>\n",
       "    </tr>\n",
       "    <tr>\n",
       "      <th>4</th>\n",
       "      <td>Safra A. Catz</td>\n",
       "      <td>Oracle Corporation</td>\n",
       "      <td>81</td>\n",
       "      <td>9/18/14</td>\n",
       "      <td>ORCL</td>\n",
       "    </tr>\n",
       "    <tr>\n",
       "      <th>5</th>\n",
       "      <td>Marillyn Hewson[4]</td>\n",
       "      <td>Lockheed Martin</td>\n",
       "      <td>60</td>\n",
       "      <td>1/1/13</td>\n",
       "      <td>LMT</td>\n",
       "    </tr>\n",
       "    <tr>\n",
       "      <th>6</th>\n",
       "      <td>Phebe Novakovic</td>\n",
       "      <td>General Dynamics</td>\n",
       "      <td>92</td>\n",
       "      <td>1/20/13</td>\n",
       "      <td>GD</td>\n",
       "    </tr>\n",
       "    <tr>\n",
       "      <th>7</th>\n",
       "      <td>Mary Dillon</td>\n",
       "      <td>Ulta Beauty</td>\n",
       "      <td>449</td>\n",
       "      <td>6/1/13</td>\n",
       "      <td>ULTA</td>\n",
       "    </tr>\n",
       "    <tr>\n",
       "      <th>8</th>\n",
       "      <td>Mary Barra</td>\n",
       "      <td>General Motors</td>\n",
       "      <td>13</td>\n",
       "      <td>1/15/14</td>\n",
       "      <td>GM</td>\n",
       "    </tr>\n",
       "    <tr>\n",
       "      <th>9</th>\n",
       "      <td>Barbara Rentler</td>\n",
       "      <td>Ross Stores</td>\n",
       "      <td>209</td>\n",
       "      <td>6/1/14</td>\n",
       "      <td>ROST</td>\n",
       "    </tr>\n",
       "  </tbody>\n",
       "</table>\n",
       "</div>"
      ],
      "text/plain": [
       "                  CEO                  Company  2019 Fortune 500 ranking  \\\n",
       "0         Laura Alber          Williams-Sonoma                       495   \n",
       "1      Beth E. Mooney                  KeyBank                       413   \n",
       "2     Tricia Griffith  Progressive Corporation                        99   \n",
       "3    Ginni Rometty[3]                      IBM                        38   \n",
       "4       Safra A. Catz       Oracle Corporation                        81   \n",
       "5  Marillyn Hewson[4]          Lockheed Martin                        60   \n",
       "6     Phebe Novakovic         General Dynamics                        92   \n",
       "7         Mary Dillon              Ulta Beauty                       449   \n",
       "8          Mary Barra           General Motors                        13   \n",
       "9     Barbara Rentler              Ross Stores                       209   \n",
       "\n",
       "  effective date as CEO Ticker Symbol (NYS/NASDAQ)  \n",
       "0                5/1/10                        WSM  \n",
       "1                5/1/11                        KEY  \n",
       "2                7/1/16                        PGR  \n",
       "3                1/1/12                        IBM  \n",
       "4               9/18/14                       ORCL  \n",
       "5                1/1/13                        LMT  \n",
       "6               1/20/13                         GD  \n",
       "7                6/1/13                       ULTA  \n",
       "8               1/15/14                         GM  \n",
       "9                6/1/14                       ROST  "
      ]
     },
     "execution_count": 21,
     "metadata": {},
     "output_type": "execute_result"
    }
   ],
   "source": [
    "female_ceos_df"
   ]
  },
  {
   "cell_type": "code",
   "execution_count": 22,
   "metadata": {},
   "outputs": [
    {
     "data": {
      "text/html": [
       "<div>\n",
       "<style scoped>\n",
       "    .dataframe tbody tr th:only-of-type {\n",
       "        vertical-align: middle;\n",
       "    }\n",
       "\n",
       "    .dataframe tbody tr th {\n",
       "        vertical-align: top;\n",
       "    }\n",
       "\n",
       "    .dataframe thead th {\n",
       "        text-align: right;\n",
       "    }\n",
       "</style>\n",
       "<table border=\"1\" class=\"dataframe\">\n",
       "  <thead>\n",
       "    <tr style=\"text-align: right;\">\n",
       "      <th></th>\n",
       "      <th>close</th>\n",
       "      <th>high</th>\n",
       "      <th>low</th>\n",
       "      <th>open</th>\n",
       "      <th>volume</th>\n",
       "      <th>Date</th>\n",
       "      <th>Ticker</th>\n",
       "    </tr>\n",
       "  </thead>\n",
       "  <tbody>\n",
       "    <tr>\n",
       "      <th>0</th>\n",
       "      <td>87.25</td>\n",
       "      <td>89.63</td>\n",
       "      <td>84.50</td>\n",
       "      <td>87.50</td>\n",
       "      <td>3054000.0</td>\n",
       "      <td>1998-02-27</td>\n",
       "      <td>GD</td>\n",
       "    </tr>\n",
       "    <tr>\n",
       "      <th>1</th>\n",
       "      <td>86.25</td>\n",
       "      <td>91.50</td>\n",
       "      <td>84.88</td>\n",
       "      <td>86.63</td>\n",
       "      <td>3517500.0</td>\n",
       "      <td>1998-03-31</td>\n",
       "      <td>GD</td>\n",
       "    </tr>\n",
       "    <tr>\n",
       "      <th>2</th>\n",
       "      <td>42.69</td>\n",
       "      <td>89.63</td>\n",
       "      <td>40.25</td>\n",
       "      <td>85.88</td>\n",
       "      <td>7177500.0</td>\n",
       "      <td>1998-04-30</td>\n",
       "      <td>GD</td>\n",
       "    </tr>\n",
       "    <tr>\n",
       "      <th>3</th>\n",
       "      <td>44.44</td>\n",
       "      <td>48.38</td>\n",
       "      <td>40.69</td>\n",
       "      <td>42.25</td>\n",
       "      <td>6794000.0</td>\n",
       "      <td>1998-05-29</td>\n",
       "      <td>GD</td>\n",
       "    </tr>\n",
       "    <tr>\n",
       "      <th>4</th>\n",
       "      <td>46.50</td>\n",
       "      <td>46.81</td>\n",
       "      <td>43.06</td>\n",
       "      <td>44.44</td>\n",
       "      <td>4962700.0</td>\n",
       "      <td>1998-06-30</td>\n",
       "      <td>GD</td>\n",
       "    </tr>\n",
       "  </tbody>\n",
       "</table>\n",
       "</div>"
      ],
      "text/plain": [
       "    close   high    low   open     volume        Date Ticker\n",
       "0   87.25  89.63  84.50  87.50  3054000.0  1998-02-27     GD\n",
       "1   86.25  91.50  84.88  86.63  3517500.0  1998-03-31     GD\n",
       "2   42.69  89.63  40.25  85.88  7177500.0  1998-04-30     GD\n",
       "3   44.44  48.38  40.69  42.25  6794000.0  1998-05-29     GD\n",
       "4   46.50  46.81  43.06  44.44  4962700.0  1998-06-30     GD"
      ]
     },
     "execution_count": 22,
     "metadata": {},
     "output_type": "execute_result"
    }
   ],
   "source": [
    "female_df.head()"
   ]
  },
  {
   "cell_type": "code",
   "execution_count": 23,
   "metadata": {},
   "outputs": [
    {
     "data": {
      "text/html": [
       "<div>\n",
       "<style scoped>\n",
       "    .dataframe tbody tr th:only-of-type {\n",
       "        vertical-align: middle;\n",
       "    }\n",
       "\n",
       "    .dataframe tbody tr th {\n",
       "        vertical-align: top;\n",
       "    }\n",
       "\n",
       "    .dataframe thead th {\n",
       "        text-align: right;\n",
       "    }\n",
       "</style>\n",
       "<table border=\"1\" class=\"dataframe\">\n",
       "  <thead>\n",
       "    <tr style=\"text-align: right;\">\n",
       "      <th></th>\n",
       "      <th></th>\n",
       "      <th>close</th>\n",
       "      <th>high</th>\n",
       "      <th>low</th>\n",
       "      <th>open</th>\n",
       "      <th>volume</th>\n",
       "    </tr>\n",
       "    <tr>\n",
       "      <th>Ticker</th>\n",
       "      <th>Date</th>\n",
       "      <th></th>\n",
       "      <th></th>\n",
       "      <th></th>\n",
       "      <th></th>\n",
       "      <th></th>\n",
       "    </tr>\n",
       "  </thead>\n",
       "  <tbody>\n",
       "    <tr>\n",
       "      <th rowspan=\"5\" valign=\"top\">GD</th>\n",
       "      <th>1998-02-27</th>\n",
       "      <td>87.25</td>\n",
       "      <td>89.63</td>\n",
       "      <td>84.50</td>\n",
       "      <td>87.50</td>\n",
       "      <td>3054000.0</td>\n",
       "    </tr>\n",
       "    <tr>\n",
       "      <th>1998-03-31</th>\n",
       "      <td>86.25</td>\n",
       "      <td>91.50</td>\n",
       "      <td>84.88</td>\n",
       "      <td>86.63</td>\n",
       "      <td>3517500.0</td>\n",
       "    </tr>\n",
       "    <tr>\n",
       "      <th>1998-04-30</th>\n",
       "      <td>42.69</td>\n",
       "      <td>89.63</td>\n",
       "      <td>40.25</td>\n",
       "      <td>85.88</td>\n",
       "      <td>7177500.0</td>\n",
       "    </tr>\n",
       "    <tr>\n",
       "      <th>1998-05-29</th>\n",
       "      <td>44.44</td>\n",
       "      <td>48.38</td>\n",
       "      <td>40.69</td>\n",
       "      <td>42.25</td>\n",
       "      <td>6794000.0</td>\n",
       "    </tr>\n",
       "    <tr>\n",
       "      <th>1998-06-30</th>\n",
       "      <td>46.50</td>\n",
       "      <td>46.81</td>\n",
       "      <td>43.06</td>\n",
       "      <td>44.44</td>\n",
       "      <td>4962700.0</td>\n",
       "    </tr>\n",
       "  </tbody>\n",
       "</table>\n",
       "</div>"
      ],
      "text/plain": [
       "                    close   high    low   open     volume\n",
       "Ticker Date                                              \n",
       "GD     1998-02-27   87.25  89.63  84.50  87.50  3054000.0\n",
       "       1998-03-31   86.25  91.50  84.88  86.63  3517500.0\n",
       "       1998-04-30   42.69  89.63  40.25  85.88  7177500.0\n",
       "       1998-05-29   44.44  48.38  40.69  42.25  6794000.0\n",
       "       1998-06-30   46.50  46.81  43.06  44.44  4962700.0"
      ]
     },
     "execution_count": 23,
     "metadata": {},
     "output_type": "execute_result"
    }
   ],
   "source": [
    "fem_index = female_df.set_index(['Ticker','Date'])\n",
    "fem_index.head()"
   ]
  },
  {
   "cell_type": "markdown",
   "metadata": {},
   "source": [
    "use .loc to pull closing stock data from 2 months before, month, of, and month after CEO change for male and female CEOS to use for plots"
   ]
  },
  {
   "cell_type": "code",
   "execution_count": 107,
   "metadata": {},
   "outputs": [],
   "source": [
    "gd_x_ax = (fem_index.loc[('GD', '2012-11-30'),' close'],fem_index.loc[('GD', '2012-12-31'), ' close'], \n",
    "           fem_index.loc[('GD', '2013-01-31'), ' close'], \n",
    "            fem_index.loc[('GD', '2013-02-28'), ' close'], fem_index.loc[('GD', '2013-03-28'), ' close'])\n",
    "\n",
    "ibm_x_ax = (fem_index.loc[('IBM', '2011-11-30'),' close'],fem_index.loc[('IBM', '2011-12-30'), ' close'], fem_index.loc[('IBM', '2012-01-31'), ' close'], \n",
    "            fem_index.loc[('IBM', '2012-02-29'), ' close'], fem_index.loc[('IBM', '2012-03-30'), ' close'])\n",
    "\n",
    "\n",
    "gm_x_ax = (fem_index.loc[('GM', '2013-11-29'),' close'],fem_index.loc[('GM', '2013-12-31'), ' close'], fem_index.loc[('GM', '2014-01-31'), ' close'], \n",
    "            fem_index.loc[('GM', '2014-02-28'), ' close'],fem_index.loc[('GM', '2014-03-31'), ' close'])\n",
    "                         \n",
    "rost_x_ax = (fem_index.loc[('ROST', '2014-04-30'),' close'], fem_index.loc[('ROST', '2014-05-30'), ' close'], fem_index.loc[('ROST', '2014-06-30'), ' close'], \n",
    "            fem_index.loc[('ROST', '2014-07-31'), ' close'],fem_index.loc[('ROST', '2014-08-29'), ' close'])\n",
    "\n",
    "or_x_ax = (fem_index.loc[('ORCL', '2014-07-31'), ' close'], fem_index.loc[('ORCL', '2014-08-29'), ' close'], fem_index.loc[('ORCL', '2014-09-30'), ' close'], \n",
    "            fem_index.loc[('ORCL', '2014-10-31'), ' close'],fem_index.loc[('ORCL', '2014-11-28'), ' close'])\n",
    "\n",
    "wsm_x_ax = (fem_index.loc[('WSM', '2010-03-31'), ' close'], fem_index.loc[('WSM', '2010-04-30'), ' close'], fem_index.loc[('WSM', '2010-05-28'), ' close'], \n",
    "            fem_index.loc[('WSM', '2010-06-30'), ' close'],fem_index.loc[('WSM', '2010-07-30'), ' close'])\n",
    "\n",
    "y_ax = (\"2 Months Prev\",\"Month Prev\",\"Month of\",\"Month After\",\"2 Months After\")"
   ]
  },
  {
   "cell_type": "code",
   "execution_count": 26,
   "metadata": {},
   "outputs": [
    {
     "data": {
      "image/png": "[encoded data removed]",
      "text/plain": [
       "<Figure size 432x288 with 1 Axes>"
      ]
     },
     "metadata": {
      "needs_background": "light"
     },
     "output_type": "display_data"
    },
    {
     "data": {
      "text/plain": [
       "<Figure size 360x360 with 0 Axes>"
      ]
     },
     "metadata": {},
     "output_type": "display_data"
    }
   ],
   "source": [
    "fig, axs = plt.subplots()\n",
    "\n",
    "\n",
    "axes= plt.axes()\n",
    "\n",
    "axes.set_ylim([30,100])\n",
    "\n",
    "axes.set_yticks(np.arange(0,100,15))\n",
    "plt.plot(y_ax,gm_x_ax, marker ='o', color='red', label=\"General Motors\")\n",
    "plt.plot(y_ax,rost_x_ax, marker ='o', color='green', label=\"Ross Stores\")\n",
    "plt.plot(y_ax,or_x_ax, marker ='o', color='blue', label=\"ORCLE\")\n",
    "plt.plot(y_ax,wsm_x_ax, marker ='o', color='orange', label=\"Williams-Sonoma\")\n",
    "\n",
    "\n",
    "\n",
    "\n",
    "\n",
    "\n",
    "\n",
    "plt.title(\"Company Stock During \\n CEO Change(Women)\")\n",
    "plt.ylabel(\"End of Month Stock Closing Value\")\n",
    "plt.xlabel(\"Months Surrounding CEO Change\")\n",
    "plt.figure(figsize=(5,5))\n",
    "fig.legend(title=\"Companies\",loc=\"upper right\", fontsize= \"small\")\n",
    "plt.show()\n"
   ]
  },
  {
   "cell_type": "markdown",
   "metadata": {},
   "source": [
    "graph shows 5 months of stock values from 1 companie from each industry. From a glance you can see that the stock value change varies and there is not much of a trend between these four companies. Using a larger amount of companies from each industry, as well as daily closing stock data as opposed to monthly, would help to see any trends in imediate effect. "
   ]
  },
  {
   "cell_type": "code",
   "execution_count": null,
   "metadata": {},
   "outputs": [],
   "source": []
  },
  {
   "cell_type": "code",
   "execution_count": 27,
   "metadata": {},
   "outputs": [
    {
     "data": {
      "text/plain": [
       "<Figure size 432x288 with 0 Axes>"
      ]
     },
     "metadata": {},
     "output_type": "display_data"
    }
   ],
   "source": [
    "plt.gcf()\n",
    "fig.savefig(\"women_ceo_change.png\")"
   ]
  },
  {
   "cell_type": "code",
   "execution_count": 28,
   "metadata": {},
   "outputs": [
    {
     "data": {
      "text/html": [
       "<div>\n",
       "<style scoped>\n",
       "    .dataframe tbody tr th:only-of-type {\n",
       "        vertical-align: middle;\n",
       "    }\n",
       "\n",
       "    .dataframe tbody tr th {\n",
       "        vertical-align: top;\n",
       "    }\n",
       "\n",
       "    .dataframe thead th {\n",
       "        text-align: right;\n",
       "    }\n",
       "</style>\n",
       "<table border=\"1\" class=\"dataframe\">\n",
       "  <thead>\n",
       "    <tr style=\"text-align: right;\">\n",
       "      <th></th>\n",
       "      <th></th>\n",
       "      <th>close</th>\n",
       "      <th>high</th>\n",
       "      <th>low</th>\n",
       "      <th>open</th>\n",
       "      <th>volume</th>\n",
       "    </tr>\n",
       "    <tr>\n",
       "      <th>Ticker</th>\n",
       "      <th>Date</th>\n",
       "      <th></th>\n",
       "      <th></th>\n",
       "      <th></th>\n",
       "      <th></th>\n",
       "      <th></th>\n",
       "    </tr>\n",
       "  </thead>\n",
       "  <tbody>\n",
       "    <tr>\n",
       "      <th rowspan=\"5\" valign=\"top\">BURL</th>\n",
       "      <th>1998-02-27</th>\n",
       "      <td>NaN</td>\n",
       "      <td>NaN</td>\n",
       "      <td>NaN</td>\n",
       "      <td>NaN</td>\n",
       "      <td>NaN</td>\n",
       "    </tr>\n",
       "    <tr>\n",
       "      <th>1998-03-31</th>\n",
       "      <td>NaN</td>\n",
       "      <td>NaN</td>\n",
       "      <td>NaN</td>\n",
       "      <td>NaN</td>\n",
       "      <td>NaN</td>\n",
       "    </tr>\n",
       "    <tr>\n",
       "      <th>1998-04-30</th>\n",
       "      <td>NaN</td>\n",
       "      <td>NaN</td>\n",
       "      <td>NaN</td>\n",
       "      <td>NaN</td>\n",
       "      <td>NaN</td>\n",
       "    </tr>\n",
       "    <tr>\n",
       "      <th>1998-05-29</th>\n",
       "      <td>NaN</td>\n",
       "      <td>NaN</td>\n",
       "      <td>NaN</td>\n",
       "      <td>NaN</td>\n",
       "      <td>NaN</td>\n",
       "    </tr>\n",
       "    <tr>\n",
       "      <th>1998-06-30</th>\n",
       "      <td>NaN</td>\n",
       "      <td>NaN</td>\n",
       "      <td>NaN</td>\n",
       "      <td>NaN</td>\n",
       "      <td>NaN</td>\n",
       "    </tr>\n",
       "  </tbody>\n",
       "</table>\n",
       "</div>"
      ],
      "text/plain": [
       "                    close   high   low   open   volume\n",
       "Ticker Date                                           \n",
       "BURL   1998-02-27     NaN    NaN   NaN    NaN      NaN\n",
       "       1998-03-31     NaN    NaN   NaN    NaN      NaN\n",
       "       1998-04-30     NaN    NaN   NaN    NaN      NaN\n",
       "       1998-05-29     NaN    NaN   NaN    NaN      NaN\n",
       "       1998-06-30     NaN    NaN   NaN    NaN      NaN"
      ]
     },
     "execution_count": 28,
     "metadata": {},
     "output_type": "execute_result"
    }
   ],
   "source": [
    "male_index = male_df.set_index(['Ticker','Date'])\n",
    "male_index.head()"
   ]
  },
  {
   "cell_type": "code",
   "execution_count": 29,
   "metadata": {},
   "outputs": [
    {
     "data": {
      "text/html": [
       "<div>\n",
       "<style scoped>\n",
       "    .dataframe tbody tr th:only-of-type {\n",
       "        vertical-align: middle;\n",
       "    }\n",
       "\n",
       "    .dataframe tbody tr th {\n",
       "        vertical-align: top;\n",
       "    }\n",
       "\n",
       "    .dataframe thead th {\n",
       "        text-align: right;\n",
       "    }\n",
       "</style>\n",
       "<table border=\"1\" class=\"dataframe\">\n",
       "  <thead>\n",
       "    <tr style=\"text-align: right;\">\n",
       "      <th></th>\n",
       "      <th>CEO</th>\n",
       "      <th>Company</th>\n",
       "      <th>2019 Fortune 500 Rank</th>\n",
       "      <th>Effective Date as CEO</th>\n",
       "      <th>Ticker Symbol (NYS/NASDAQ)</th>\n",
       "    </tr>\n",
       "  </thead>\n",
       "  <tbody>\n",
       "    <tr>\n",
       "      <th>0</th>\n",
       "      <td>Tom Kingsbury</td>\n",
       "      <td>Burlington Storers</td>\n",
       "      <td>451</td>\n",
       "      <td>12/1/08</td>\n",
       "      <td>BURL</td>\n",
       "    </tr>\n",
       "    <tr>\n",
       "      <th>1</th>\n",
       "      <td>Bruce Van Saun</td>\n",
       "      <td>Citizens Financial Group</td>\n",
       "      <td>415</td>\n",
       "      <td>10/1/13</td>\n",
       "      <td>CFG</td>\n",
       "    </tr>\n",
       "    <tr>\n",
       "      <th>2</th>\n",
       "      <td>Weston M Hicks</td>\n",
       "      <td>Alleghany</td>\n",
       "      <td>437</td>\n",
       "      <td>12/1/04</td>\n",
       "      <td>Y</td>\n",
       "    </tr>\n",
       "    <tr>\n",
       "      <th>3</th>\n",
       "      <td>Robert H Swan</td>\n",
       "      <td>Intel</td>\n",
       "      <td>43</td>\n",
       "      <td>6/1/18</td>\n",
       "      <td>INTC</td>\n",
       "    </tr>\n",
       "    <tr>\n",
       "      <th>4</th>\n",
       "      <td>Satya Nadella</td>\n",
       "      <td>Microsoft</td>\n",
       "      <td>26</td>\n",
       "      <td>2/1/14</td>\n",
       "      <td>MSFT</td>\n",
       "    </tr>\n",
       "    <tr>\n",
       "      <th>5</th>\n",
       "      <td>Gregory Hayes</td>\n",
       "      <td>United Technologies</td>\n",
       "      <td>46</td>\n",
       "      <td>11/1/14</td>\n",
       "      <td>UTX</td>\n",
       "    </tr>\n",
       "    <tr>\n",
       "      <th>6</th>\n",
       "      <td>Dr. Thpmas Kennedy</td>\n",
       "      <td>Raytheon</td>\n",
       "      <td>114</td>\n",
       "      <td>3/1/14</td>\n",
       "      <td>RTN</td>\n",
       "    </tr>\n",
       "    <tr>\n",
       "      <th>7</th>\n",
       "      <td>Greg Maffei</td>\n",
       "      <td>Qurate</td>\n",
       "      <td>225</td>\n",
       "      <td>2/1/06</td>\n",
       "      <td>QRTEA</td>\n",
       "    </tr>\n",
       "    <tr>\n",
       "      <th>8</th>\n",
       "      <td>Jim Hackett</td>\n",
       "      <td>Ford Motor</td>\n",
       "      <td>12</td>\n",
       "      <td>5/1/17</td>\n",
       "      <td>F</td>\n",
       "    </tr>\n",
       "    <tr>\n",
       "      <th>9</th>\n",
       "      <td>Ernie Herman</td>\n",
       "      <td>TJX</td>\n",
       "      <td>85</td>\n",
       "      <td>1/1/16</td>\n",
       "      <td>TJX</td>\n",
       "    </tr>\n",
       "  </tbody>\n",
       "</table>\n",
       "</div>"
      ],
      "text/plain": [
       "                  CEO                   Company  2019 Fortune 500 Rank  \\\n",
       "0       Tom Kingsbury        Burlington Storers                    451   \n",
       "1      Bruce Van Saun  Citizens Financial Group                    415   \n",
       "2      Weston M Hicks                 Alleghany                    437   \n",
       "3       Robert H Swan                     Intel                     43   \n",
       "4       Satya Nadella                 Microsoft                     26   \n",
       "5       Gregory Hayes       United Technologies                     46   \n",
       "6  Dr. Thpmas Kennedy                  Raytheon                    114   \n",
       "7         Greg Maffei                    Qurate                    225   \n",
       "8         Jim Hackett                Ford Motor                     12   \n",
       "9        Ernie Herman                       TJX                     85   \n",
       "\n",
       "  Effective Date as CEO Ticker Symbol (NYS/NASDAQ)  \n",
       "0               12/1/08                       BURL  \n",
       "1               10/1/13                        CFG  \n",
       "2               12/1/04                          Y  \n",
       "3                6/1/18                       INTC  \n",
       "4                2/1/14                       MSFT  \n",
       "5               11/1/14                        UTX  \n",
       "6                3/1/14                        RTN  \n",
       "7                2/1/06                      QRTEA  \n",
       "8                5/1/17                          F  \n",
       "9                1/1/16                        TJX  "
      ]
     },
     "execution_count": 29,
     "metadata": {},
     "output_type": "execute_result"
    }
   ],
   "source": [
    "male_ceos_df"
   ]
  },
  {
   "cell_type": "code",
   "execution_count": null,
   "metadata": {},
   "outputs": [],
   "source": []
  },
  {
   "cell_type": "code",
   "execution_count": 111,
   "metadata": {},
   "outputs": [],
   "source": [
    "INTC_x_ax = (male_index.loc[('INTC', '2018-04-30'),' close'],male_index.loc[('INTC', '2018-05-31'), ' close'], \n",
    "            male_index.loc[('INTC', '2018-06-29'), ' close'], \n",
    "            male_index.loc[('INTC', '2018-07-31'), ' close'], male_index.loc[('INTC', '2018-08-31'), ' close'])\n",
    "\n",
    "\n",
    "F_x_ax = (male_index.loc[('F', '2017-03-31'),' close'],male_index.loc[('F', '2017-04-28'), ' close'], \n",
    "          male_index.loc[('F', '2017-05-31'), ' close'], \n",
    "            male_index.loc[('F', '2017-06-30'), ' close'],male_index.loc[('F', '2017-07-31'), ' close'])\n",
    "                         \n",
    "QRTEA_x_ax = (male_index.loc[('QRTEA', '2005-12-30'),' close'], male_index.loc[('QRTEA', '2006-01-31'), ' close'], \n",
    "             male_index.loc[('QRTEA', '2006-02-28'), ' close'], \n",
    "            male_index.loc[('QRTEA', '2006-03-31'), ' close'],male_index.loc[('QRTEA', '2006-04-28'), ' close'])\n",
    "\n",
    "msft_x_ax = (male_index.loc[('MSFT', '2013-12-31'), ' close'], male_index.loc[('MSFT', '2014-01-31'), ' close'], \n",
    "             male_index.loc[('MSFT', '2014-02-28'), ' close'], \n",
    "            male_index.loc[('MSFT', '2014-03-31'), ' close'],male_index.loc[('MSFT', '2014-04-30'), ' close'])\n",
    "\n",
    "TJX_x_ax = (male_index.loc[('TJX', '2015-11-30'), ' close'], male_index.loc[('TJX', '2015-12-31'), ' close'], \n",
    "            male_index.loc[('TJX', '2016-01-29'), ' close'], \n",
    "            male_index.loc[('TJX', '2016-02-29'), ' close'],male_index.loc[('TJX', '2016-03-31'), ' close'])\n",
    "\n",
    "UTX_x_ax = (male_index.loc[('UTX', '2010-11-30'), ' close'], male_index.loc[('UTX', '2010-12-31'), ' close'], \n",
    "            male_index.loc[('UTX', '2011-01-31'), ' close'], \n",
    "            male_index.loc[('UTX', '2011-02-28'), ' close'],male_index.loc[('UTX', '2011-03-31'), ' close'])\n",
    "\n",
    "y_ax = (\"2 Months Prev\",\"Month Prev\",\"Month of\",\"Month After\",\"2 Months After\")"
   ]
  },
  {
   "cell_type": "code",
   "execution_count": 31,
   "metadata": {},
   "outputs": [
    {
     "data": {
      "image/png": "[encoded data removed]",
      "text/plain": [
       "<Figure size 432x288 with 1 Axes>"
      ]
     },
     "metadata": {
      "needs_background": "light"
     },
     "output_type": "display_data"
    },
    {
     "data": {
      "text/plain": [
       "<Figure size 360x360 with 0 Axes>"
      ]
     },
     "metadata": {},
     "output_type": "display_data"
    }
   ],
   "source": [
    "fig, axs = plt.subplots()\n",
    "\n",
    "\n",
    "axes= plt.axes()\n",
    "\n",
    "axes.set_ylim([30,100])\n",
    "\n",
    "axes.set_yticks(np.arange(0,100,20))\n",
    "plt.plot(y_ax,INTC_x_ax, marker ='o', color='blue', label=\"Intel\")\n",
    "plt.plot(y_ax,F_x_ax, marker ='o', color='red', label=\"Ford Motor\")\n",
    "plt.plot(y_ax,msft_x_ax, marker ='o', color='green', label=\"Microsfot\")\n",
    "plt.plot(y_ax,TJX_x_ax, marker ='o', color='orange', label=\"TJX\")\n",
    "\n",
    "\n",
    "\n",
    "\n",
    "\n",
    "\n",
    "\n",
    "plt.title(\"Company Stock During \\n CEO Change(Men)\")\n",
    "plt.ylabel(\"End of Month Stock Closing Value\")\n",
    "plt.xlabel(\"Months Surrounding CEO Change\")\n",
    "plt.figure(figsize=(5,5))\n",
    "fig.legend(title=\"Companies\",loc=\"upper right\", fontsize= \"small\")\n",
    "plt.show()"
   ]
  },
  {
   "cell_type": "markdown",
   "metadata": {},
   "source": [
    "plt.gcf()\n",
    "fig.savefig(\"men_ceo_change.png\")"
   ]
  },
  {
   "cell_type": "markdown",
   "metadata": {},
   "source": [
    "using .loc to pull a year of closing stock values month over month to observe any long term trends "
   ]
  },
  {
   "cell_type": "code",
   "execution_count": 32,
   "metadata": {},
   "outputs": [],
   "source": [
    "ibm_year_x = fem_index.loc[('IBM', '2012-01-30'):('IBM', '2013-02-28'), ' close']\n",
    "\n",
    "gm_year_x = fem_index.loc[('GM', '2014-01-30'):('GM', '2015-02-28'), ' close']\n",
    "                         \n",
    "rost_year_x = fem_index.loc[('ROST', '2014-06-30'):('ROST', '2015-07-31'), ' close']\n",
    "\n",
    "or_year_x = fem_index.loc[('ORCL', '2014-09-30'):('ORCL', '2015-10-31'), ' close']\n",
    "\n",
    "wsm_year_x = fem_index.loc[('WSM', '2010-05-31'):('WSM', '2011-07-30'), ' close']\n",
    "\n",
    "y_year_ax = (1,2,3,4,5,6,7,8,9,10,11,12,13,14)"
   ]
  },
  {
   "cell_type": "code",
   "execution_count": 33,
   "metadata": {},
   "outputs": [
    {
     "data": {
      "image/png": "[encoded data removed]",
      "text/plain": [
       "<Figure size 432x288 with 1 Axes>"
      ]
     },
     "metadata": {
      "needs_background": "light"
     },
     "output_type": "display_data"
    },
    {
     "data": {
      "text/plain": [
       "<Figure size 360x360 with 0 Axes>"
      ]
     },
     "metadata": {},
     "output_type": "display_data"
    }
   ],
   "source": [
    "fig, axs = plt.subplots()\n",
    "\n",
    "\n",
    "axes= plt.axes()\n",
    "\n",
    "axes.set_ylim([0,140])\n",
    "\n",
    "axes.set_yticks(np.arange(0,140,20))\n",
    "\n",
    "plt.plot(y_year_ax,gm_year_x, marker ='o', color='red', label=\"General Motors\")\n",
    "plt.plot(y_year_ax,rost_year_x, marker ='o', color='green', label=\"Ross Stores\")\n",
    "plt.plot(y_year_ax,or_year_x, marker ='o', color='blue', label=\"ORCLE\")\n",
    "plt.plot(y_year_ax,wsm_year_x, marker ='o', color='orange', label=\"Williams-Sonoma\")\n",
    "\n",
    "\n",
    "\n",
    "\n",
    "\n",
    "\n",
    "\n",
    "plt.title(\"Company Stock After \\n CEO Change(Women)\")\n",
    "plt.ylabel(\"End of Month Stock Closing Value\")\n",
    "plt.xlabel(\"Months Following CEO Change\")\n",
    "plt.figure(figsize=(5,5))\n",
    "fig.legend(title=\"Companies\",loc=\"upper right\", fontsize= \"small\")\n",
    "plt.show()"
   ]
  },
  {
   "cell_type": "code",
   "execution_count": 34,
   "metadata": {},
   "outputs": [
    {
     "data": {
      "text/plain": [
       "<Figure size 432x288 with 0 Axes>"
      ]
     },
     "metadata": {},
     "output_type": "display_data"
    }
   ],
   "source": [
    "plt.gcf()\n",
    "fig.savefig(\"women_ceo_year.png\")"
   ]
  },
  {
   "cell_type": "code",
   "execution_count": 35,
   "metadata": {},
   "outputs": [],
   "source": [
    "INTC_year_x = male_index.loc[('INTC', '2018-06-30'):('INTC', '2019-08-31'), ' close']\n",
    "\n",
    "\n",
    "F_year_x = male_index.loc[('F', '2017-05-31'):('F', '2018-06-30'), ' close']\n",
    "                         \n",
    "msft_year_x = male_index.loc[('MSFT', '2014-01-31'):('MSFT', '2015-02-28'), ' close']\n",
    "\n",
    "TJX_year_x = male_index.loc[('TJX', '2016-01-31'):('TJX', '2017-03-31'), ' close']"
   ]
  },
  {
   "cell_type": "code",
   "execution_count": 36,
   "metadata": {},
   "outputs": [
    {
     "data": {
      "image/png": "[encoded data removed]",
      "text/plain": [
       "<Figure size 432x288 with 1 Axes>"
      ]
     },
     "metadata": {
      "needs_background": "light"
     },
     "output_type": "display_data"
    },
    {
     "data": {
      "text/plain": [
       "<Figure size 360x360 with 0 Axes>"
      ]
     },
     "metadata": {},
     "output_type": "display_data"
    }
   ],
   "source": [
    "fig, axs = plt.subplots()\n",
    "\n",
    "\n",
    "axes= plt.axes()\n",
    "\n",
    "axes.set_ylim([30,100])\n",
    "\n",
    "axes.set_yticks(np.arange(0,100,20))\n",
    "plt.plot(y_year_ax,INTC_year_x, marker ='o', color='blue', label=\"Intel\")\n",
    "plt.plot(y_year_ax,F_year_x, marker ='o', color='red', label=\"Ford Motor\")\n",
    "plt.plot(y_year_ax,msft_year_x, marker ='o', color='green', label=\"Microsfot\")\n",
    "plt.plot(y_year_ax,TJX_year_x, marker ='o', color='orange', label=\"TJX\")\n",
    "\n",
    "\n",
    "\n",
    "\n",
    "\n",
    "\n",
    "\n",
    "plt.title(\"Company Stock Follwing \\n CEO Change(Men)\")\n",
    "plt.ylabel(\"End of Month Stock Closing Value\")\n",
    "plt.xlabel(\"Months Following CEO Change\")\n",
    "plt.figure(figsize=(5,5))\n",
    "fig.legend(title=\"Companies\",loc=\"upper right\", fontsize= \"small\")\n",
    "plt.show()"
   ]
  },
  {
   "cell_type": "code",
   "execution_count": 37,
   "metadata": {},
   "outputs": [
    {
     "data": {
      "text/plain": [
       "<Figure size 432x288 with 0 Axes>"
      ]
     },
     "metadata": {},
     "output_type": "display_data"
    }
   ],
   "source": [
    "plt.gcf()\n",
    "fig.savefig(\"men_ceo_year.png\")"
   ]
  },
  {
   "cell_type": "markdown",
   "metadata": {},
   "source": [
    "converting tuples into a series in order to run the .diff funtion to calcuate the average in closing stock values month to month during CEO change. Men, women, and different industies"
   ]
  },
  {
   "cell_type": "code",
   "execution_count": 1,
   "metadata": {},
   "outputs": [
    {
     "ename": "NameError",
     "evalue": "name 'pd' is not defined",
     "output_type": "error",
     "traceback": [
      "\u001b[1;31m---------------------------------------------------------------------------\u001b[0m",
      "\u001b[1;31mNameError\u001b[0m                                 Traceback (most recent call last)",
      "\u001b[1;32m<ipython-input-1-ebff7bcba758>\u001b[0m in \u001b[0;36m<module>\u001b[1;34m\u001b[0m\n\u001b[1;32m----> 1\u001b[1;33m \u001b[0mINTC_s\u001b[0m \u001b[1;33m=\u001b[0m \u001b[0mpd\u001b[0m\u001b[1;33m.\u001b[0m\u001b[0mSeries\u001b[0m\u001b[1;33m(\u001b[0m\u001b[0mINTC_x_ax\u001b[0m\u001b[1;33m)\u001b[0m\u001b[1;33m\u001b[0m\u001b[1;33m\u001b[0m\u001b[0m\n\u001b[0m\u001b[0;32m      2\u001b[0m \u001b[0mINTC_change\u001b[0m \u001b[1;33m=\u001b[0m \u001b[0mINTC_s\u001b[0m\u001b[1;33m.\u001b[0m\u001b[0mdiff\u001b[0m\u001b[1;33m(\u001b[0m\u001b[1;33m)\u001b[0m\u001b[1;33m\u001b[0m\u001b[1;33m\u001b[0m\u001b[0m\n\u001b[0;32m      3\u001b[0m \u001b[1;33m\u001b[0m\u001b[0m\n\u001b[0;32m      4\u001b[0m \u001b[0mF_s\u001b[0m \u001b[1;33m=\u001b[0m \u001b[0mpd\u001b[0m\u001b[1;33m.\u001b[0m\u001b[0mSeries\u001b[0m\u001b[1;33m(\u001b[0m\u001b[0mF_x_ax\u001b[0m\u001b[1;33m)\u001b[0m\u001b[1;33m\u001b[0m\u001b[1;33m\u001b[0m\u001b[0m\n\u001b[0;32m      5\u001b[0m \u001b[0mF_change\u001b[0m \u001b[1;33m=\u001b[0m \u001b[0mF_s\u001b[0m\u001b[1;33m.\u001b[0m\u001b[0mdiff\u001b[0m\u001b[1;33m(\u001b[0m\u001b[1;33m)\u001b[0m\u001b[1;33m\u001b[0m\u001b[1;33m\u001b[0m\u001b[0m\n",
      "\u001b[1;31mNameError\u001b[0m: name 'pd' is not defined"
     ]
    }
   ],
   "source": [
    "INTC_s = pd.Series(INTC_x_ax)\n",
    "INTC_change = INTC_s.diff()\n",
    "\n",
    "F_s = pd.Series(F_x_ax)\n",
    "F_change = F_s.diff()\n",
    "\n",
    "msft_s = pd.Series(msft_x_ax)\n",
    "msft_change = msft_s.diff()\n",
    "\n",
    "TJX_s = pd.Series(TJX_x_ax)\n",
    "TJX_change = TJX_s.diff()\n",
    "\n",
    "QRTEA_s = pd.Series(QRTEA_x_ax)\n",
    "QRTEA_change = QRTEA_s.diff()\n",
    "\n",
    "UTX_s = pd.Series(UTX_x_ax)\n",
    "UTX_change = UTX_s.diff()\n",
    "\n",
    "male_avg_change = (INTC_change.mean() + F_change.mean() + msft_change.mean() + TJX_change.mean()) / 4\n",
    "male_avg_change\n",
    "\n",
    "male_tech_change = (INTC_change.mean() + msft_change.mean()) / 2\n",
    "male_retail_change = (TJX_change.mean() + QRTEA_change.mean()) / 2\n",
    "male_def_change = UTX_change.mean()\n",
    "\n",
    "male_def_change"
   ]
  },
  {
   "cell_type": "code",
   "execution_count": 117,
   "metadata": {},
   "outputs": [
    {
     "data": {
      "text/plain": [
       "1.0025000000000013"
      ]
     },
     "execution_count": 117,
     "metadata": {},
     "output_type": "execute_result"
    }
   ],
   "source": [
    "ibm_s = pd.Series(ibm_x_ax)\n",
    "ibm_change = ibm_s.diff()\n",
    "\n",
    "gm_s = pd.Series(gm_x_ax)\n",
    "gm_change = gm_s.diff()\n",
    "\n",
    "rost_s = pd.Series(rost_x_ax)\n",
    "rost_change = rost_s.diff()\n",
    "\n",
    "or_s = pd.Series(or_x_ax)\n",
    "or_change = or_s.diff()\n",
    "\n",
    "wsm_s = pd.Series(wsm_x_ax)\n",
    "wsm_change = wsm_s.diff()\n",
    "\n",
    "gd_s = pd.Series(gd_x_ax)\n",
    "gd_change = gd_s.diff()\n",
    "\n",
    "\n",
    "fem_avg_change = (gm_change.mean() + rost_change.mean() + or_change.mean() + wsm_change.mean()) / 4\n",
    "fem_avg_change\n",
    "\n",
    "fem_tech_change = (ibm_change.mean() + or_change.mean()) / 2\n",
    "fem_retail_change = (rost_change.mean() + wsm_change.mean()) / 2\n",
    "fem_def_change = gd_change.mean()\n",
    "fem_def_change"
   ]
  },
  {
   "cell_type": "code",
   "execution_count": 59,
   "metadata": {},
   "outputs": [],
   "source": [
    "results = [(fem_avg_change),(male_avg_change)]\n",
    "x_axis = (\"Women CEO\",\"Man CEO\")"
   ]
  },
  {
   "cell_type": "code",
   "execution_count": 70,
   "metadata": {},
   "outputs": [
    {
     "data": {
      "text/plain": [
       "Text(0, 0.5, 'Average Change in Stock Value')"
      ]
     },
     "execution_count": 70,
     "metadata": {},
     "output_type": "execute_result"
    },
    {
     "data": {
      "image/png": "[encoded data removed]",
      "text/plain": [
       "<Figure size 432x288 with 1 Axes>"
      ]
     },
     "metadata": {
      "needs_background": "light"
     },
     "output_type": "display_data"
    }
   ],
   "source": [
    "fig, ax = plt.subplots()\n",
    "\n",
    "\n",
    "plt.bar(x_axis,results, color='r', alpha=0.5, align=\"center\")\n",
    "plt.ylim(0,.6)\n",
    "plt.title(\"Average Stock Value Change During CEO Change\")\n",
    "plt.ylabel(\"Average Change in Stock Value\")\n"
   ]
  },
  {
   "cell_type": "code",
   "execution_count": 71,
   "metadata": {},
   "outputs": [
    {
     "data": {
      "text/plain": [
       "<Figure size 432x288 with 0 Axes>"
      ]
     },
     "metadata": {},
     "output_type": "display_data"
    }
   ],
   "source": [
    "plt.gcf()\n",
    "fig.savefig(\"avg_stock_chg.png\")"
   ]
  },
  {
   "cell_type": "code",
   "execution_count": 94,
   "metadata": {},
   "outputs": [
    {
     "data": {
      "image/png": "[encoded data removed]",
      "text/plain": [
       "<Figure size 432x288 with 1 Axes>"
      ]
     },
     "metadata": {
      "needs_background": "light"
     },
     "output_type": "display_data"
    }
   ],
   "source": [
    "tech_results = [(fem_tech_change),(male_tech_change)]\n",
    "fig, ax = plt.subplots()\n",
    "\n",
    "tick_locations = np.arange(-.1, 4.5, .5)\n",
    "plt.yticks(tick_locations)\n",
    "plt.bar(x_axis,tech_results, color='b', alpha=0.5, align=\"center\")\n",
    "plt.ylim(-1,4)\n",
    "plt.title(\"Average Stock Value Change During CEO Change \\n in Tech Companies\")\n",
    "plt.ylabel(\"Average Change in Stock Value\")\n",
    "plt.gcf()\n",
    "fig.savefig(\"avg_tech_chg.png\")"
   ]
  },
  {
   "cell_type": "code",
   "execution_count": 121,
   "metadata": {},
   "outputs": [
    {
     "data": {
      "image/png": "[encoded data removed]",
      "text/plain": [
       "<Figure size 432x288 with 1 Axes>"
      ]
     },
     "metadata": {
      "needs_background": "light"
     },
     "output_type": "display_data"
    }
   ],
   "source": [
    "def_results = [(fem_def_change),(male_def_change)]\n",
    "fig, ax = plt.subplots()\n",
    "\n",
    "tick_locations = np.arange(0, 4, .5)\n",
    "plt.yticks(tick_locations)\n",
    "plt.bar(x_axis,def_results, color='g', alpha=0.5, align=\"center\")\n",
    "plt.ylim(0,4)\n",
    "plt.title(\"Average Stock Value Change During CEO Change \\n in Defense Companies\")\n",
    "plt.ylabel(\"Average Change in Stock Value\")\n",
    "plt.gcf()\n",
    "fig.savefig(\"avg_def_chg.png\")"
   ]
  },
  {
   "cell_type": "code",
   "execution_count": null,
   "metadata": {},
   "outputs": [],
   "source": []
  }
 ],
 "metadata": {
  "kernelspec": {
   "display_name": "Python 3",
   "language": "python",
   "name": "python3"
  },
  "language_info": {
   "codemirror_mode": {
    "name": "ipython",
    "version": 3
   },
   "file_extension": ".py",
   "mimetype": "text/x-python",
   "name": "python",
   "nbconvert_exporter": "python",
   "pygments_lexer": "ipython3",
   "version": "3.7.3"
  }
 },
 "nbformat": 4,
 "nbformat_minor": 2
}
